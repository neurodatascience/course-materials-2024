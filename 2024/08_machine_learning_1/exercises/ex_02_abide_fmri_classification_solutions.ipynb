{
 "cells": [
  {
   "cell_type": "markdown",
   "metadata": {},
   "source": [
    "# Machine-Learning tutorial for classification\n",
    "\n",
    "## Objective\n",
    "1. Predict diagnostic label from functional connectome\n",
    "2. Predict MRI acquisition site from functional connectome\n",
    "\n",
    "## Dataset\n",
    "[ABIDE (Autism)](https://nilearn.github.io/modules/generated/nilearn.datasets.fetch_abide_pcp.html)\n",
    "\n",
    "## Preprocessing \n",
    "### (Note: this is done in [ABIDE_fmri_data_prepare.ipynb](./ABIDE_fmri_data_prepare.ipynb))\n",
    "1. Load fMRI timeseries data for each participant per ROIs which are defined based on [harvard_oxford atlas](https://nilearn.github.io/modules/generated/nilearn.datasets.fetch_atlas_harvard_oxford.html) or [AAL atlas](https://nilearn.github.io/modules/generated/nilearn.datasets.fetch_atlas_aal.html)\n",
    "\n",
    "2. Generate region-to-region connectivity matrix (i.e. connectome) from fMRI timeseries data\n",
    "\n",
    "3. Flatten connectom matrix into a vector\n",
    "\n",
    "## Model \n",
    "1. Logistic regression\n",
    "\n",
    "2. Random Forest\n",
    "\n",
    "## Cross-validation\n",
    "1. k-fold\n",
    "\n",
    "2. shuffle-split\n",
    "\n",
    "## post-hoc analysis\n",
    "Compare model performance for predicting Dx labels vs. MRI acquisition site\n"
   ]
  },
  {
   "cell_type": "markdown",
   "metadata": {},
   "source": [
    "# Let's begin! \n",
    "### First we import some useful python libraries..."
   ]
  },
  {
   "cell_type": "code",
   "execution_count": 1,
   "metadata": {},
   "outputs": [],
   "source": [
    "## Imports\n",
    "from nilearn import datasets\n",
    "from nilearn.connectome import ConnectivityMeasure\n",
    "import pandas as pd\n",
    "import numpy as np\n",
    "import matplotlib.pyplot as plt\n",
    "from sklearn import preprocessing\n",
    "import seaborn as sns"
   ]
  },
  {
   "cell_type": "markdown",
   "metadata": {},
   "source": [
    "## Load data\n",
    "\n",
    "- Note: We are directly loading the `preprocessed` data which was prepared by [ABIDE_fmri_data_prepare.ipynb](./ABIDE_fmri_data_prepare.ipynb)"
   ]
  },
  {
   "cell_type": "code",
   "execution_count": 3,
   "metadata": {},
   "outputs": [
    {
     "data": {
      "text/html": [
       "<div>\n",
       "<style scoped>\n",
       "    .dataframe tbody tr th:only-of-type {\n",
       "        vertical-align: middle;\n",
       "    }\n",
       "\n",
       "    .dataframe tbody tr th {\n",
       "        vertical-align: top;\n",
       "    }\n",
       "\n",
       "    .dataframe thead th {\n",
       "        text-align: right;\n",
       "    }\n",
       "</style>\n",
       "<table border=\"1\" class=\"dataframe\">\n",
       "  <thead>\n",
       "    <tr style=\"text-align: right;\">\n",
       "      <th></th>\n",
       "      <th>X</th>\n",
       "      <th>subject</th>\n",
       "      <th>SITE_ID</th>\n",
       "      <th>FILE_ID</th>\n",
       "      <th>DX_GROUP</th>\n",
       "      <th>DSM_IV_TR</th>\n",
       "      <th>AGE_AT_SCAN</th>\n",
       "      <th>SEX</th>\n",
       "      <th>HANDEDNESS_CATEGORY</th>\n",
       "      <th>HANDEDNESS_SCORES</th>\n",
       "      <th>...</th>\n",
       "      <th>qc_notes_rater_1</th>\n",
       "      <th>qc_anat_rater_2</th>\n",
       "      <th>qc_anat_notes_rater_2</th>\n",
       "      <th>qc_func_rater_2</th>\n",
       "      <th>qc_func_notes_rater_2</th>\n",
       "      <th>qc_anat_rater_3</th>\n",
       "      <th>qc_anat_notes_rater_3</th>\n",
       "      <th>qc_func_rater_3</th>\n",
       "      <th>qc_func_notes_rater_3</th>\n",
       "      <th>SUB_IN_SMP</th>\n",
       "    </tr>\n",
       "    <tr>\n",
       "      <th>SUB_ID</th>\n",
       "      <th></th>\n",
       "      <th></th>\n",
       "      <th></th>\n",
       "      <th></th>\n",
       "      <th></th>\n",
       "      <th></th>\n",
       "      <th></th>\n",
       "      <th></th>\n",
       "      <th></th>\n",
       "      <th></th>\n",
       "      <th></th>\n",
       "      <th></th>\n",
       "      <th></th>\n",
       "      <th></th>\n",
       "      <th></th>\n",
       "      <th></th>\n",
       "      <th></th>\n",
       "      <th></th>\n",
       "      <th></th>\n",
       "      <th></th>\n",
       "      <th></th>\n",
       "    </tr>\n",
       "  </thead>\n",
       "  <tbody>\n",
       "    <tr>\n",
       "      <th>50003</th>\n",
       "      <td>2</td>\n",
       "      <td>50003</td>\n",
       "      <td>PITT</td>\n",
       "      <td>Pitt_0050003</td>\n",
       "      <td>1</td>\n",
       "      <td>1</td>\n",
       "      <td>24.45</td>\n",
       "      <td>1</td>\n",
       "      <td>R</td>\n",
       "      <td>NaN</td>\n",
       "      <td>...</td>\n",
       "      <td>NaN</td>\n",
       "      <td>OK</td>\n",
       "      <td>NaN</td>\n",
       "      <td>OK</td>\n",
       "      <td>NaN</td>\n",
       "      <td>OK</td>\n",
       "      <td>NaN</td>\n",
       "      <td>OK</td>\n",
       "      <td>NaN</td>\n",
       "      <td>1</td>\n",
       "    </tr>\n",
       "    <tr>\n",
       "      <th>50004</th>\n",
       "      <td>3</td>\n",
       "      <td>50004</td>\n",
       "      <td>PITT</td>\n",
       "      <td>Pitt_0050004</td>\n",
       "      <td>1</td>\n",
       "      <td>1</td>\n",
       "      <td>19.09</td>\n",
       "      <td>1</td>\n",
       "      <td>R</td>\n",
       "      <td>NaN</td>\n",
       "      <td>...</td>\n",
       "      <td>NaN</td>\n",
       "      <td>OK</td>\n",
       "      <td>NaN</td>\n",
       "      <td>OK</td>\n",
       "      <td>NaN</td>\n",
       "      <td>OK</td>\n",
       "      <td>NaN</td>\n",
       "      <td>OK</td>\n",
       "      <td>NaN</td>\n",
       "      <td>1</td>\n",
       "    </tr>\n",
       "    <tr>\n",
       "      <th>50005</th>\n",
       "      <td>4</td>\n",
       "      <td>50005</td>\n",
       "      <td>PITT</td>\n",
       "      <td>Pitt_0050005</td>\n",
       "      <td>1</td>\n",
       "      <td>1</td>\n",
       "      <td>13.73</td>\n",
       "      <td>2</td>\n",
       "      <td>R</td>\n",
       "      <td>NaN</td>\n",
       "      <td>...</td>\n",
       "      <td>NaN</td>\n",
       "      <td>OK</td>\n",
       "      <td>NaN</td>\n",
       "      <td>maybe</td>\n",
       "      <td>ic-parietal-cerebellum</td>\n",
       "      <td>OK</td>\n",
       "      <td>NaN</td>\n",
       "      <td>OK</td>\n",
       "      <td>NaN</td>\n",
       "      <td>0</td>\n",
       "    </tr>\n",
       "    <tr>\n",
       "      <th>50006</th>\n",
       "      <td>5</td>\n",
       "      <td>50006</td>\n",
       "      <td>PITT</td>\n",
       "      <td>Pitt_0050006</td>\n",
       "      <td>1</td>\n",
       "      <td>1</td>\n",
       "      <td>13.37</td>\n",
       "      <td>1</td>\n",
       "      <td>L</td>\n",
       "      <td>NaN</td>\n",
       "      <td>...</td>\n",
       "      <td>NaN</td>\n",
       "      <td>OK</td>\n",
       "      <td>NaN</td>\n",
       "      <td>maybe</td>\n",
       "      <td>ic-parietal slight</td>\n",
       "      <td>OK</td>\n",
       "      <td>NaN</td>\n",
       "      <td>OK</td>\n",
       "      <td>NaN</td>\n",
       "      <td>1</td>\n",
       "    </tr>\n",
       "    <tr>\n",
       "      <th>50007</th>\n",
       "      <td>6</td>\n",
       "      <td>50007</td>\n",
       "      <td>PITT</td>\n",
       "      <td>Pitt_0050007</td>\n",
       "      <td>1</td>\n",
       "      <td>1</td>\n",
       "      <td>17.78</td>\n",
       "      <td>1</td>\n",
       "      <td>R</td>\n",
       "      <td>NaN</td>\n",
       "      <td>...</td>\n",
       "      <td>NaN</td>\n",
       "      <td>OK</td>\n",
       "      <td>NaN</td>\n",
       "      <td>maybe</td>\n",
       "      <td>ic-cerebellum_temporal_lob</td>\n",
       "      <td>OK</td>\n",
       "      <td>NaN</td>\n",
       "      <td>OK</td>\n",
       "      <td>NaN</td>\n",
       "      <td>1</td>\n",
       "    </tr>\n",
       "  </tbody>\n",
       "</table>\n",
       "<p>5 rows × 103 columns</p>\n",
       "</div>"
      ],
      "text/plain": [
       "        X  subject SITE_ID       FILE_ID  DX_GROUP  DSM_IV_TR  AGE_AT_SCAN  \\\n",
       "SUB_ID                                                                       \n",
       "50003   2    50003    PITT  Pitt_0050003         1          1        24.45   \n",
       "50004   3    50004    PITT  Pitt_0050004         1          1        19.09   \n",
       "50005   4    50005    PITT  Pitt_0050005         1          1        13.73   \n",
       "50006   5    50006    PITT  Pitt_0050006         1          1        13.37   \n",
       "50007   6    50007    PITT  Pitt_0050007         1          1        17.78   \n",
       "\n",
       "        SEX HANDEDNESS_CATEGORY  HANDEDNESS_SCORES  ...  qc_notes_rater_1  \\\n",
       "SUB_ID                                              ...                     \n",
       "50003     1                   R                NaN  ...               NaN   \n",
       "50004     1                   R                NaN  ...               NaN   \n",
       "50005     2                   R                NaN  ...               NaN   \n",
       "50006     1                   L                NaN  ...               NaN   \n",
       "50007     1                   R                NaN  ...               NaN   \n",
       "\n",
       "        qc_anat_rater_2  qc_anat_notes_rater_2 qc_func_rater_2  \\\n",
       "SUB_ID                                                           \n",
       "50003                OK                    NaN              OK   \n",
       "50004                OK                    NaN              OK   \n",
       "50005                OK                    NaN           maybe   \n",
       "50006                OK                    NaN           maybe   \n",
       "50007                OK                    NaN           maybe   \n",
       "\n",
       "             qc_func_notes_rater_2 qc_anat_rater_3  qc_anat_notes_rater_3  \\\n",
       "SUB_ID                                                                      \n",
       "50003                          NaN              OK                    NaN   \n",
       "50004                          NaN              OK                    NaN   \n",
       "50005       ic-parietal-cerebellum              OK                    NaN   \n",
       "50006           ic-parietal slight              OK                    NaN   \n",
       "50007   ic-cerebellum_temporal_lob              OK                    NaN   \n",
       "\n",
       "        qc_func_rater_3  qc_func_notes_rater_3  SUB_IN_SMP  \n",
       "SUB_ID                                                      \n",
       "50003                OK                    NaN           1  \n",
       "50004                OK                    NaN           1  \n",
       "50005                OK                    NaN           0  \n",
       "50006                OK                    NaN           1  \n",
       "50007                OK                    NaN           1  \n",
       "\n",
       "[5 rows x 103 columns]"
      ]
     },
     "execution_count": 3,
     "metadata": {},
     "output_type": "execute_result"
    }
   ],
   "source": [
    "data_dir = \"../../data\"\n",
    "\n",
    "pheno_data_tsv = f\"{data_dir}/participants_nbsub-100.tsv\"\n",
    "brain_data_tsv = f\"{data_dir}/abide_nbsub-100_atlas-ho_meas-correlation_relmat.tsv\"\n",
    "\n",
    "\n",
    "pheno_df = pd.read_csv(pheno_data_tsv, sep=\"\\t\", index_col=0)\n",
    "brain_df = pd.read_csv(brain_data_tsv, sep=\"\\t\", index_col=0)\n",
    "\n",
    "pheno_df.head()"
   ]
  },
  {
   "cell_type": "code",
   "execution_count": 4,
   "metadata": {},
   "outputs": [
    {
     "data": {
      "text/html": [
       "<div>\n",
       "<style scoped>\n",
       "    .dataframe tbody tr th:only-of-type {\n",
       "        vertical-align: middle;\n",
       "    }\n",
       "\n",
       "    .dataframe tbody tr th {\n",
       "        vertical-align: top;\n",
       "    }\n",
       "\n",
       "    .dataframe thead th {\n",
       "        text-align: right;\n",
       "    }\n",
       "</style>\n",
       "<table border=\"1\" class=\"dataframe\">\n",
       "  <thead>\n",
       "    <tr style=\"text-align: right;\">\n",
       "      <th></th>\n",
       "      <th>0</th>\n",
       "      <th>1</th>\n",
       "      <th>2</th>\n",
       "      <th>3</th>\n",
       "      <th>4</th>\n",
       "      <th>5</th>\n",
       "      <th>6</th>\n",
       "      <th>7</th>\n",
       "      <th>8</th>\n",
       "      <th>9</th>\n",
       "      <th>...</th>\n",
       "      <th>6095</th>\n",
       "      <th>6096</th>\n",
       "      <th>6097</th>\n",
       "      <th>6098</th>\n",
       "      <th>6099</th>\n",
       "      <th>6100</th>\n",
       "      <th>6101</th>\n",
       "      <th>6102</th>\n",
       "      <th>6103</th>\n",
       "      <th>6104</th>\n",
       "    </tr>\n",
       "    <tr>\n",
       "      <th>SUB_ID</th>\n",
       "      <th></th>\n",
       "      <th></th>\n",
       "      <th></th>\n",
       "      <th></th>\n",
       "      <th></th>\n",
       "      <th></th>\n",
       "      <th></th>\n",
       "      <th></th>\n",
       "      <th></th>\n",
       "      <th></th>\n",
       "      <th></th>\n",
       "      <th></th>\n",
       "      <th></th>\n",
       "      <th></th>\n",
       "      <th></th>\n",
       "      <th></th>\n",
       "      <th></th>\n",
       "      <th></th>\n",
       "      <th></th>\n",
       "      <th></th>\n",
       "      <th></th>\n",
       "    </tr>\n",
       "  </thead>\n",
       "  <tbody>\n",
       "    <tr>\n",
       "      <th>50003</th>\n",
       "      <td>0.616131</td>\n",
       "      <td>0.631333</td>\n",
       "      <td>0.536934</td>\n",
       "      <td>0.579913</td>\n",
       "      <td>0.486430</td>\n",
       "      <td>0.674588</td>\n",
       "      <td>0.419927</td>\n",
       "      <td>0.320891</td>\n",
       "      <td>0.567708</td>\n",
       "      <td>0.482514</td>\n",
       "      <td>...</td>\n",
       "      <td>0.528068</td>\n",
       "      <td>0.501324</td>\n",
       "      <td>0.492328</td>\n",
       "      <td>0.383765</td>\n",
       "      <td>0.433528</td>\n",
       "      <td>0.445759</td>\n",
       "      <td>0.432495</td>\n",
       "      <td>0.563743</td>\n",
       "      <td>0.538968</td>\n",
       "      <td>0.794665</td>\n",
       "    </tr>\n",
       "    <tr>\n",
       "      <th>50004</th>\n",
       "      <td>0.469488</td>\n",
       "      <td>0.555710</td>\n",
       "      <td>0.382993</td>\n",
       "      <td>0.438907</td>\n",
       "      <td>0.351902</td>\n",
       "      <td>0.460364</td>\n",
       "      <td>0.418160</td>\n",
       "      <td>0.222128</td>\n",
       "      <td>0.303198</td>\n",
       "      <td>0.225140</td>\n",
       "      <td>...</td>\n",
       "      <td>0.169667</td>\n",
       "      <td>0.274514</td>\n",
       "      <td>0.240135</td>\n",
       "      <td>0.147265</td>\n",
       "      <td>0.130083</td>\n",
       "      <td>0.167236</td>\n",
       "      <td>0.173157</td>\n",
       "      <td>0.339317</td>\n",
       "      <td>0.085935</td>\n",
       "      <td>0.578523</td>\n",
       "    </tr>\n",
       "    <tr>\n",
       "      <th>50005</th>\n",
       "      <td>0.477262</td>\n",
       "      <td>0.444849</td>\n",
       "      <td>0.406490</td>\n",
       "      <td>0.430605</td>\n",
       "      <td>0.333766</td>\n",
       "      <td>0.652202</td>\n",
       "      <td>0.675285</td>\n",
       "      <td>0.316591</td>\n",
       "      <td>0.351914</td>\n",
       "      <td>0.333831</td>\n",
       "      <td>...</td>\n",
       "      <td>0.168143</td>\n",
       "      <td>0.232346</td>\n",
       "      <td>0.481708</td>\n",
       "      <td>0.282241</td>\n",
       "      <td>0.324252</td>\n",
       "      <td>0.341667</td>\n",
       "      <td>0.381824</td>\n",
       "      <td>0.527614</td>\n",
       "      <td>0.515012</td>\n",
       "      <td>0.829215</td>\n",
       "    </tr>\n",
       "    <tr>\n",
       "      <th>50006</th>\n",
       "      <td>0.507016</td>\n",
       "      <td>0.661879</td>\n",
       "      <td>0.520613</td>\n",
       "      <td>0.585333</td>\n",
       "      <td>0.375889</td>\n",
       "      <td>0.625316</td>\n",
       "      <td>0.341862</td>\n",
       "      <td>0.102353</td>\n",
       "      <td>0.270784</td>\n",
       "      <td>0.290639</td>\n",
       "      <td>...</td>\n",
       "      <td>0.274579</td>\n",
       "      <td>0.275056</td>\n",
       "      <td>0.169083</td>\n",
       "      <td>0.294372</td>\n",
       "      <td>0.409430</td>\n",
       "      <td>0.410919</td>\n",
       "      <td>0.377898</td>\n",
       "      <td>0.496621</td>\n",
       "      <td>0.187485</td>\n",
       "      <td>0.810404</td>\n",
       "    </tr>\n",
       "    <tr>\n",
       "      <th>50007</th>\n",
       "      <td>0.618285</td>\n",
       "      <td>0.753630</td>\n",
       "      <td>0.629141</td>\n",
       "      <td>0.643313</td>\n",
       "      <td>0.468474</td>\n",
       "      <td>0.716065</td>\n",
       "      <td>0.479454</td>\n",
       "      <td>0.432951</td>\n",
       "      <td>0.470434</td>\n",
       "      <td>0.449635</td>\n",
       "      <td>...</td>\n",
       "      <td>0.358740</td>\n",
       "      <td>0.378375</td>\n",
       "      <td>0.390896</td>\n",
       "      <td>0.392232</td>\n",
       "      <td>0.381120</td>\n",
       "      <td>0.428890</td>\n",
       "      <td>0.525672</td>\n",
       "      <td>0.713384</td>\n",
       "      <td>0.249400</td>\n",
       "      <td>0.883117</td>\n",
       "    </tr>\n",
       "  </tbody>\n",
       "</table>\n",
       "<p>5 rows × 6105 columns</p>\n",
       "</div>"
      ],
      "text/plain": [
       "               0         1         2         3         4         5         6  \\\n",
       "SUB_ID                                                                         \n",
       "50003   0.616131  0.631333  0.536934  0.579913  0.486430  0.674588  0.419927   \n",
       "50004   0.469488  0.555710  0.382993  0.438907  0.351902  0.460364  0.418160   \n",
       "50005   0.477262  0.444849  0.406490  0.430605  0.333766  0.652202  0.675285   \n",
       "50006   0.507016  0.661879  0.520613  0.585333  0.375889  0.625316  0.341862   \n",
       "50007   0.618285  0.753630  0.629141  0.643313  0.468474  0.716065  0.479454   \n",
       "\n",
       "               7         8         9  ...      6095      6096      6097  \\\n",
       "SUB_ID                                ...                                 \n",
       "50003   0.320891  0.567708  0.482514  ...  0.528068  0.501324  0.492328   \n",
       "50004   0.222128  0.303198  0.225140  ...  0.169667  0.274514  0.240135   \n",
       "50005   0.316591  0.351914  0.333831  ...  0.168143  0.232346  0.481708   \n",
       "50006   0.102353  0.270784  0.290639  ...  0.274579  0.275056  0.169083   \n",
       "50007   0.432951  0.470434  0.449635  ...  0.358740  0.378375  0.390896   \n",
       "\n",
       "            6098      6099      6100      6101      6102      6103      6104  \n",
       "SUB_ID                                                                        \n",
       "50003   0.383765  0.433528  0.445759  0.432495  0.563743  0.538968  0.794665  \n",
       "50004   0.147265  0.130083  0.167236  0.173157  0.339317  0.085935  0.578523  \n",
       "50005   0.282241  0.324252  0.341667  0.381824  0.527614  0.515012  0.829215  \n",
       "50006   0.294372  0.409430  0.410919  0.377898  0.496621  0.187485  0.810404  \n",
       "50007   0.392232  0.381120  0.428890  0.525672  0.713384  0.249400  0.883117  \n",
       "\n",
       "[5 rows x 6105 columns]"
      ]
     },
     "execution_count": 4,
     "metadata": {},
     "output_type": "execute_result"
    }
   ],
   "source": [
    "brain_df.head()"
   ]
  },
  {
   "cell_type": "markdown",
   "metadata": {},
   "source": [
    "## ML-ready data"
   ]
  },
  {
   "cell_type": "code",
   "execution_count": 5,
   "metadata": {},
   "outputs": [
    {
     "name": "stdout",
     "output_type": "stream",
     "text": [
      "Unique output clasess:\n",
      "1    50\n",
      "2    50\n",
      "Name: DX_GROUP, dtype: int64\n"
     ]
    }
   ],
   "source": [
    "# input\n",
    "X = brain_df.values\n",
    "\n",
    "# output\n",
    "outcome = \"DX_GROUP\"\n",
    "y = pheno_df[outcome]\n",
    "y_counts = y.value_counts()\n",
    "\n",
    "print(f\"Unique output clasess:\\n{y_counts}\")\n",
    "\n",
    "# Encode labels to integer categories\n",
    "le = preprocessing.LabelEncoder()\n",
    "y = le.fit_transform(y)"
   ]
  },
  {
   "cell_type": "markdown",
   "metadata": {},
   "source": [
    "## Create train-test split\n",
    "- 80/20 ratio\n",
    "- Stratify "
   ]
  },
  {
   "cell_type": "code",
   "execution_count": 6,
   "metadata": {},
   "outputs": [
    {
     "name": "stdout",
     "output_type": "stream",
     "text": [
      "training: 80 testing: 20\n"
     ]
    }
   ],
   "source": [
    "from sklearn.model_selection import train_test_split\n",
    "\n",
    "test_subset_fraction = 0.2  #\n",
    "stratification = y\n",
    "\n",
    "X_train, X_test, y_train, y_test = train_test_split(\n",
    "    X,  # input features\n",
    "    y,  # output labels\n",
    "    test_size=test_subset_fraction,\n",
    "    shuffle=True,  # shuffle dataset\n",
    "    # before splitting\n",
    "    stratify=stratification,\n",
    "    random_state=123,  # same shuffle each time\n",
    ")\n",
    "\n",
    "# print the size of our training and test groups\n",
    "print(\"training:\", len(X_train), \"testing:\", len(X_test))"
   ]
  },
  {
   "cell_type": "markdown",
   "metadata": {},
   "source": [
    "## Okay let's train your first model!"
   ]
  },
  {
   "cell_type": "code",
   "execution_count": 8,
   "metadata": {},
   "outputs": [
    {
     "name": "stdout",
     "output_type": "stream",
     "text": [
      "Using model: LR\n",
      "train acc: 0.825\n"
     ]
    },
    {
     "name": "stderr",
     "output_type": "stream",
     "text": [
      "/home/nikhil/anaconda3/envs/qlsc612/lib/python3.9/site-packages/sklearn/linear_model/_sag.py:350: ConvergenceWarning: The max_iter was reached which means the coef_ did not converge\n",
      "  warnings.warn(\n"
     ]
    }
   ],
   "source": [
    "from sklearn.linear_model import LogisticRegression\n",
    "from sklearn.ensemble import RandomForestClassifier\n",
    "\n",
    "model = \"LR\"  # 'LR' or 'RF'\n",
    "\n",
    "if model == \"RF\":\n",
    "    clf = RandomForestClassifier(max_depth=3, class_weight=\"balanced\", random_state=0)\n",
    "elif model == \"LR\":\n",
    "    clf = LogisticRegression(\n",
    "        penalty=\"l1\", C=1, class_weight=\"balanced\", solver=\"saga\", random_state=0\n",
    "    )\n",
    "else:\n",
    "    print(f\"Unknown model: {model}\")\n",
    "\n",
    "print(f\"Using model: {model}\")\n",
    "\n",
    "clf.fit(X_train, y_train)\n",
    "\n",
    "train_acc = clf.score(X_train, y_train)\n",
    "print(f\"train acc: {train_acc:.3f}\")"
   ]
  },
  {
   "cell_type": "markdown",
   "metadata": {},
   "source": [
    "## Evaluate on test set\n",
    "- accuracy\n",
    "- confusion_matrix\n",
    "- precision_recall_fscore "
   ]
  },
  {
   "cell_type": "code",
   "execution_count": 9,
   "metadata": {},
   "outputs": [
    {
     "name": "stdout",
     "output_type": "stream",
     "text": [
      "test acc: 0.600\n"
     ]
    }
   ],
   "source": [
    "from sklearn.metrics import precision_recall_fscore_support\n",
    "from sklearn.metrics import confusion_matrix\n",
    "\n",
    "y_pred = clf.predict(X_test)\n",
    "\n",
    "test_acc = clf.score(X_test, y_test)\n",
    "print(f\"test acc: {test_acc:.3f}\")\n",
    "\n",
    "test_cm = confusion_matrix(y_test, y_pred)"
   ]
  },
  {
   "cell_type": "markdown",
   "metadata": {},
   "source": [
    "### Note the difference between train and test accuracy. If the difference is large, we are most likely overfitting the model to the train set. \n",
    "\n",
    "#### Things to try:\n",
    "- Increase regularization\n",
    "- Reduce dimensionality of X"
   ]
  },
  {
   "cell_type": "code",
   "execution_count": 10,
   "metadata": {},
   "outputs": [
    {
     "data": {
      "image/png": "[encoded data removed]",
      "text/plain": [
       "<Figure size 1500x1000 with 2 Axes>"
      ]
     },
     "metadata": {},
     "output_type": "display_data"
    }
   ],
   "source": [
    "sns.set_theme(font_scale=3)\n",
    "with sns.axes_style(\"whitegrid\"):\n",
    "    f, ax = plt.subplots(figsize=(15, 10))\n",
    "\n",
    "    g = sns.heatmap(test_cm, ax=ax, annot=True, annot_kws={\"fontsize\": 35}, cmap=\"Reds\")\n",
    "    g.set_title(\"Confusion matrix\")\n",
    "    g.set_ylabel(\"True label\")\n",
    "    g.set_xlabel(\"Pred label\")"
   ]
  },
  {
   "cell_type": "code",
   "execution_count": 11,
   "metadata": {},
   "outputs": [
    {
     "name": "stdout",
     "output_type": "stream",
     "text": [
      "model: LR, outcome: DX_GROUP\n",
      " Acc:0.60, precision: 0.66, recall: 0.60, f1: 0.56\n"
     ]
    }
   ],
   "source": [
    "p, r, f1, _ = precision_recall_fscore_support(y_test, y_pred, average=\"weighted\")\n",
    "\n",
    "print(\n",
    "    f\"model: {model}, outcome: {outcome}\\n Acc:{test_acc:.2f}, precision: {p:.2f}, recall: {r:.2f}, f1: {f1:.2f}\"\n",
    ")"
   ]
  },
  {
   "cell_type": "markdown",
   "metadata": {},
   "source": [
    "## Now let's predict scanning site!"
   ]
  },
  {
   "cell_type": "code",
   "execution_count": 12,
   "metadata": {},
   "outputs": [
    {
     "name": "stdout",
     "output_type": "stream",
     "text": [
      "Unique output clasess:\n",
      "PITT    50\n",
      "OLIN    28\n",
      "OHSU    22\n",
      "Name: SITE_ID, dtype: int64\n"
     ]
    }
   ],
   "source": [
    "outcome = \"SITE_ID\"\n",
    "y = pheno_df[outcome]\n",
    "y_counts = y.value_counts()\n",
    "\n",
    "print(f\"Unique output clasess:\\n{y_counts}\")\n",
    "\n",
    "# Encode labels to integer categories\n",
    "le = preprocessing.LabelEncoder()\n",
    "y = le.fit_transform(y)"
   ]
  },
  {
   "cell_type": "markdown",
   "metadata": {},
   "source": [
    "## Create train-test split\n",
    "- 80/20 ratio\n",
    "- Stratify "
   ]
  },
  {
   "cell_type": "code",
   "execution_count": 13,
   "metadata": {},
   "outputs": [
    {
     "name": "stdout",
     "output_type": "stream",
     "text": [
      "training: 80 testing: 20\n"
     ]
    }
   ],
   "source": [
    "from sklearn.model_selection import train_test_split\n",
    "\n",
    "test_subset_fraction = 0.2  #\n",
    "stratification = y\n",
    "\n",
    "X_train, X_test, y_train, y_test = train_test_split(\n",
    "    X,  # input features\n",
    "    y,  # output labels\n",
    "    test_size=test_subset_fraction,\n",
    "    shuffle=True,  # shuffle dataset\n",
    "    # before splitting\n",
    "    stratify=stratification,\n",
    "    random_state=123,  # same shuffle each time\n",
    ")\n",
    "\n",
    "# print the size of our training and test groups\n",
    "print(\"training:\", len(X_train), \"testing:\", len(X_test))"
   ]
  },
  {
   "cell_type": "markdown",
   "metadata": {},
   "source": [
    "## Fit the model"
   ]
  },
  {
   "cell_type": "code",
   "execution_count": 14,
   "metadata": {},
   "outputs": [
    {
     "name": "stdout",
     "output_type": "stream",
     "text": [
      "Using model: LR\n",
      "train acc: 1.000\n"
     ]
    },
    {
     "name": "stderr",
     "output_type": "stream",
     "text": [
      "/home/nikhil/anaconda3/envs/qlsc612/lib/python3.9/site-packages/sklearn/linear_model/_sag.py:350: ConvergenceWarning: The max_iter was reached which means the coef_ did not converge\n",
      "  warnings.warn(\n"
     ]
    }
   ],
   "source": [
    "from sklearn.linear_model import LogisticRegression\n",
    "from sklearn.ensemble import RandomForestClassifier\n",
    "\n",
    "model = \"LR\"  # 'LR' or 'RF'\n",
    "\n",
    "if model == \"RF\":\n",
    "    clf = RandomForestClassifier(max_depth=3, class_weight=\"balanced\", random_state=0)\n",
    "elif model == \"LR\":\n",
    "    clf = LogisticRegression(\n",
    "        penalty=\"l2\", C=1, class_weight=\"balanced\", solver=\"saga\", random_state=0\n",
    "    )\n",
    "else:\n",
    "    print(f\"Unknown model: {model}\")\n",
    "\n",
    "print(f\"Using model: {model}\")\n",
    "\n",
    "clf.fit(X_train, y_train)\n",
    "\n",
    "train_acc = clf.score(X_train, y_train)\n",
    "print(f\"train acc: {train_acc:.3f}\")"
   ]
  },
  {
   "cell_type": "markdown",
   "metadata": {},
   "source": [
    "## Evaluate on test set\n",
    "- accuracy\n",
    "- confusion_matrix\n",
    "- precision_recall_fscore "
   ]
  },
  {
   "cell_type": "code",
   "execution_count": 15,
   "metadata": {},
   "outputs": [
    {
     "name": "stdout",
     "output_type": "stream",
     "text": [
      "test acc: 0.800\n"
     ]
    }
   ],
   "source": [
    "from sklearn.metrics import precision_recall_fscore_support\n",
    "from sklearn.metrics import confusion_matrix\n",
    "\n",
    "y_pred = clf.predict(X_test)\n",
    "\n",
    "test_acc = clf.score(X_test, y_test)\n",
    "print(f\"test acc: {test_acc:.3f}\")\n",
    "\n",
    "test_cm = confusion_matrix(y_test, y_pred)"
   ]
  },
  {
   "cell_type": "code",
   "execution_count": 16,
   "metadata": {},
   "outputs": [
    {
     "data": {
      "image/png": "[encoded data removed]",
      "text/plain": [
       "<Figure size 1500x1000 with 2 Axes>"
      ]
     },
     "metadata": {},
     "output_type": "display_data"
    }
   ],
   "source": [
    "sns.set_theme(font_scale=3)\n",
    "with sns.axes_style(\"whitegrid\"):\n",
    "    f, ax = plt.subplots(figsize=(15, 10))\n",
    "    g = sns.heatmap(test_cm, annot=True, ax=ax, annot_kws={\"fontsize\": 40})\n",
    "    g.set_title(\"Confusion matrix\", fontsize=40)\n",
    "    g.set_ylabel(\"True label\", fontsize=40)\n",
    "    g.set_xlabel(\"Pred label\", fontsize=40)"
   ]
  },
  {
   "cell_type": "code",
   "execution_count": 17,
   "metadata": {},
   "outputs": [
    {
     "name": "stdout",
     "output_type": "stream",
     "text": [
      "model: LR, outcome: SITE_ID\n",
      " Acc:0.80, precision: 0.86, recall: 0.80, f1: 0.79\n"
     ]
    }
   ],
   "source": [
    "p, r, f1, _ = precision_recall_fscore_support(y_test, y_pred, average=\"weighted\")\n",
    "\n",
    "print(\n",
    "    f\"model: {model}, outcome: {outcome}\\n Acc:{test_acc:.2f}, precision: {p:.2f}, recall: {r:.2f}, f1: {f1:.2f}\"\n",
    ")"
   ]
  }
 ],
 "metadata": {
  "interpreter": {
   "hash": "e5f8cee7ddba11edeefb1347c6536a4ac2b361bd4eba89a8b32d7cb85bbef9ea"
  },
  "kernelspec": {
   "display_name": "Python 3.7.9 64-bit ('green_compute': conda)",
   "name": "python3"
  },
  "language_info": {
   "codemirror_mode": {
    "name": "ipython",
    "version": 3
   },
   "file_extension": ".py",
   "mimetype": "text/x-python",
   "name": "python",
   "nbconvert_exporter": "python",
   "pygments_lexer": "ipython3",
   "version": "3.9.16"
  }
 },
 "nbformat": 4,
 "nbformat_minor": 2
}
